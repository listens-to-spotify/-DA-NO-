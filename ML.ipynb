{
 "cells": [
  {
   "cell_type": "code",
   "execution_count": 1,
   "id": "1617a25a",
   "metadata": {
    "ExecuteTime": {
     "end_time": "2023-12-02T15:21:08.286143Z",
     "start_time": "2023-12-02T15:21:07.401004Z"
    }
   },
   "outputs": [],
   "source": [
    "import pandas as pd\n",
    "import numpy as np\n",
    "import sklearn\n",
    "import seaborn as sns\n",
    "import matplotlib.pyplot as plt\n",
    "import warnings\n",
    "warnings.filterwarnings('ignore')"
   ]
  },
  {
   "cell_type": "code",
   "execution_count": 2,
   "id": "1f4d29a9",
   "metadata": {
    "ExecuteTime": {
     "end_time": "2023-12-02T15:21:13.216911Z",
     "start_time": "2023-12-02T15:21:08.702585Z"
    }
   },
   "outputs": [],
   "source": [
    "df = pd.read_csv('Processed-hh-ru.csv')"
   ]
  },
  {
   "cell_type": "code",
   "execution_count": 3,
   "id": "0b116166",
   "metadata": {
    "ExecuteTime": {
     "end_time": "2023-12-02T15:21:13.240449Z",
     "start_time": "2023-12-02T15:21:13.218448Z"
    }
   },
   "outputs": [],
   "source": [
    "education_dict = {\n",
    "    'secondary': 0,\n",
    "    'special_secondary': 24,\n",
    "    'unfinished_higher': 12,\n",
    "    'bachelor': 48,\n",
    "    'master': 72,\n",
    "    'higher': 60,\n",
    "    'candidate': 108,\n",
    "    'doctor': 144\n",
    "}\n",
    "df['study_months'] = df['education_level'].map(education_dict)"
   ]
  },
  {
   "cell_type": "code",
   "execution_count": 4,
   "id": "50c52354",
   "metadata": {
    "ExecuteTime": {
     "end_time": "2023-12-02T15:21:13.337798Z",
     "start_time": "2023-12-02T15:21:13.241388Z"
    }
   },
   "outputs": [],
   "source": [
    "# убираем всех обманщиков с купленными дипломами\n",
    "df = df[(df.applicant_age * 12 - df.study_months) >= 18 * 12]"
   ]
  },
  {
   "cell_type": "code",
   "execution_count": 5,
   "id": "3c94dc45",
   "metadata": {
    "ExecuteTime": {
     "end_time": "2023-12-02T15:21:13.344577Z",
     "start_time": "2023-12-02T15:21:13.340131Z"
    }
   },
   "outputs": [
    {
     "data": {
      "text/plain": [
       "Index(['topic_id', 'topic_creation_date', 'initial_state', 'final_state',\n",
       "       'resume_id', 'resume_creation_date', 'profession', 'gender',\n",
       "       'year_of_birth', 'resume_region', 'education_level', 'expected_salary',\n",
       "       'relocation_status', 'business_trip_readiness', 'work_schedule',\n",
       "       'resume_employment_type', 'work_experience_months',\n",
       "       'resume_skills_list', 'vacancy_id', 'vacancy_creation_date',\n",
       "       'vacancy_region', 'work_schedule_required', 'vacancy_employment_type',\n",
       "       'compensation_from', 'vacancy_skills_list', 'applicant_age',\n",
       "       'successful_topic', 'study_months'],\n",
       "      dtype='object')"
      ]
     },
     "execution_count": 5,
     "metadata": {},
     "output_type": "execute_result"
    }
   ],
   "source": [
    "df.columns"
   ]
  },
  {
   "cell_type": "code",
   "execution_count": 6,
   "id": "fba2d74c",
   "metadata": {
    "ExecuteTime": {
     "end_time": "2023-12-02T15:22:13.387364Z",
     "start_time": "2023-12-02T15:21:13.345697Z"
    }
   },
   "outputs": [],
   "source": [
    "df['matched_employed_type'] = 0\n",
    "df['matched_schedule'] = 0\n",
    "df['matched_region'] = 0\n",
    "for index, row in df.iterrows():\n",
    "    if row['resume_employment_type'] == row['vacancy_employment_type']:\n",
    "        df.loc[index, 'macthed_employed_type'] = 1\n",
    "    if row['work_schedule'] == row['work_schedule_required']:\n",
    "        df.loc[index, 'macthed_schedule'] = 1\n",
    "    if row['resume_region'] == row['vacancy_region']:\n",
    "        df.loc[index, 'matched_region'] = 1\n",
    "df.business_trip_readiness = df.business_trip_readiness.map({'never': 0, 'sometimes': 1, 'ready': 2})"
   ]
  },
  {
   "cell_type": "markdown",
   "id": "78b5f47d",
   "metadata": {},
   "source": [
    "## Подготовка данных"
   ]
  },
  {
   "cell_type": "code",
   "execution_count": 7,
   "id": "d4967982",
   "metadata": {
    "ExecuteTime": {
     "end_time": "2023-12-02T15:22:13.476288Z",
     "start_time": "2023-12-02T15:22:13.388589Z"
    }
   },
   "outputs": [],
   "source": [
    "from sklearn.model_selection import train_test_split\n",
    "X = np.array(df[[\n",
    "    'applicant_age',\n",
    "    'work_experience_months',\n",
    "    'study_months',\n",
    "    'gender',\n",
    "    'matched_employed_type',\n",
    "    'matched_schedule',\n",
    "    'matched_region',\n",
    "    'business_trip_readiness'\n",
    "]])\n",
    "y = np.array(df.successful_topic)\n",
    "X_train, X_test, y_train, y_test = train_test_split(X, y, random_state=0)"
   ]
  },
  {
   "cell_type": "code",
   "execution_count": null,
   "id": "0ec09187",
   "metadata": {
    "ExecuteTime": {
     "start_time": "2023-12-02T15:20:05.967Z"
    }
   },
   "outputs": [],
   "source": [
    "from sklearn.neighbors import KNeighborsClassifier\n",
    "x = []\n",
    "y1 = []\n",
    "y2 = []\n",
    "for k in np.arange(5, 150, 5):\n",
    "    x.append(k)\n",
    "    print(f'k = {k}')\n",
    "    knn = KNeighborsClassifier(k).fit(X_train, y_train)\n",
    "    y1.append(knn.score(X_train, y_train))\n",
    "    y2.append(knn.score(X_test, y_test))\n",
    "plt.title('KNN')\n",
    "plt.plot(x, y1, label='Train Accuracy')\n",
    "plt.plot(x, y2, label='Test Accuracy')\n",
    "plt.grid()\n",
    "plt.legend()"
   ]
  },
  {
   "cell_type": "code",
   "execution_count": null,
   "id": "358eb571",
   "metadata": {
    "ExecuteTime": {
     "start_time": "2023-12-02T15:20:21.988Z"
    }
   },
   "outputs": [],
   "source": [
    "from sklearn.linear_model import RidgeClassifier\n",
    "x = []\n",
    "y1 = []\n",
    "y2 = []\n",
    "for a in np.arange(0, 2, 0.1):\n",
    "    x.append(a)\n",
    "    print(a)\n",
    "    rc = RidgeClassifier(a).fit(X_train, y_train)\n",
    "    y1.append(rc.score(X_train, y_train))\n",
    "    y2.append(rc.score(X_test, y_test))\n",
    "plt.title('RidgeClassifier')\n",
    "plt.plot(x, y1, label='Train Accuracy')\n",
    "plt.plot(x, y2, label='Test Accuracy')\n",
    "plt.grid()\n",
    "plt.legend()"
   ]
  },
  {
   "cell_type": "code",
   "execution_count": 23,
   "id": "fcf349c0",
   "metadata": {
    "ExecuteTime": {
     "end_time": "2023-12-02T14:58:05.928535Z",
     "start_time": "2023-12-02T14:58:05.905724Z"
    }
   },
   "outputs": [
    {
     "data": {
      "text/plain": [
       "business_trip_readiness\n",
       "never        193781\n",
       "ready        147497\n",
       "sometimes     72886\n",
       "Name: count, dtype: int64"
      ]
     },
     "execution_count": 23,
     "metadata": {},
     "output_type": "execute_result"
    }
   ],
   "source": []
  },
  {
   "cell_type": "code",
   "execution_count": null,
   "id": "85be363b",
   "metadata": {},
   "outputs": [],
   "source": []
  }
 ],
 "metadata": {
  "kernelspec": {
   "display_name": "Python 3 (ipykernel)",
   "language": "python",
   "name": "python3"
  },
  "language_info": {
   "codemirror_mode": {
    "name": "ipython",
    "version": 3
   },
   "file_extension": ".py",
   "mimetype": "text/x-python",
   "name": "python",
   "nbconvert_exporter": "python",
   "pygments_lexer": "ipython3",
   "version": "3.11.5"
  }
 },
 "nbformat": 4,
 "nbformat_minor": 5
}
